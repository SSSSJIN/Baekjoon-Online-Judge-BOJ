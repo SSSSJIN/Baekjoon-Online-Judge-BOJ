{
  "nbformat": 4,
  "nbformat_minor": 0,
  "metadata": {
    "colab": {
      "provenance": []
    },
    "kernelspec": {
      "name": "python3",
      "display_name": "Python 3"
    },
    "language_info": {
      "name": "python"
    }
  },
  "cells": [
    {
      "cell_type": "code",
      "execution_count": 7,
      "metadata": {
        "colab": {
          "base_uri": "https://localhost:8080/"
        },
        "id": "xik7camgYSKg",
        "outputId": "c579cba1-e2c9-479e-f720-abc7fd007be5"
      },
      "outputs": [
        {
          "output_type": "stream",
          "name": "stdout",
          "text": [
            "4 5\n",
            "9\n"
          ]
        }
      ],
      "source": [
        "line = input()\n",
        "\n",
        "parts = line.split()\n",
        "\n",
        "\n",
        "A = int(parts[0])\n",
        "B = int(parts[1])\n",
        "print(A + B)"
      ]
    },
    {
      "cell_type": "code",
      "source": [
        "A, B = map(int, input().split())\n",
        "print(A + B)"
      ],
      "metadata": {
        "colab": {
          "base_uri": "https://localhost:8080/"
        },
        "id": "StOB0ZOKbRyU",
        "outputId": "00143da4-f32c-4a9c-b08b-e9fd9bb7b3c3"
      },
      "execution_count": 9,
      "outputs": [
        {
          "output_type": "stream",
          "name": "stdout",
          "text": [
            "4 7\n",
            "11\n"
          ]
        }
      ]
    },
    {
      "cell_type": "code",
      "source": [
        "# split 기본 연습\n",
        "line = input()   # 입력: 10 20\n",
        "a_str, b_str = line.split()  # \"10\", \"20\"\n",
        "A = int(a_str)\n",
        "B = int(b_str)\n",
        "print(A + B)\n"
      ],
      "metadata": {
        "colab": {
          "base_uri": "https://localhost:8080/"
        },
        "id": "W4nMLKKrdrQ7",
        "outputId": "52546c67-5c20-4e1a-a765-06b510f55a28"
      },
      "execution_count": 10,
      "outputs": [
        {
          "output_type": "stream",
          "name": "stdout",
          "text": [
            "4 5\n",
            "9\n"
          ]
        }
      ]
    }
  ]
}